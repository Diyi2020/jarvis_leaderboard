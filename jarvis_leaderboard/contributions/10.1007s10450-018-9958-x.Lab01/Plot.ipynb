{
 "cells": [
  {
   "cell_type": "code",
   "execution_count": 22,
   "id": "73655525",
   "metadata": {},
   "outputs": [
    {
     "name": "stdout",
     "output_type": "stream",
     "text": [
      "csv_name ./EXP-Spectra-co2_RM_8852-nist_isodb-test-multimae.csv\n",
      "csv_name ../10.1007s10450-018-9958-x.Lab02/EXP-Spectra-co2_RM_8852-nist_isodb-test-multimae.csv\n",
      "csv_name ../10.1007s10450-018-9958-x.Lab03/EXP-Spectra-co2_RM_8852-nist_isodb-test-multimae.csv\n",
      "csv_name ../10.1007s10450-018-9958-x.Lab04/EXP-Spectra-co2_RM_8852-nist_isodb-test-multimae.csv\n",
      "csv_name ../10.1007s10450-018-9958-x.Lab05/EXP-Spectra-co2_RM_8852-nist_isodb-test-multimae.csv\n",
      "csv_name ../10.1007s10450-018-9958-x.Lab06/EXP-Spectra-co2_RM_8852-nist_isodb-test-multimae.csv\n",
      "csv_name ../10.1007s10450-018-9958-x.Lab07/EXP-Spectra-co2_RM_8852-nist_isodb-test-multimae.csv\n",
      "csv_name ../10.1007s10450-018-9958-x.Lab08/EXP-Spectra-co2_RM_8852-nist_isodb-test-multimae.csv\n",
      "csv_name ../10.1007s10450-018-9958-x.Lab09/EXP-Spectra-co2_RM_8852-nist_isodb-test-multimae.csv\n",
      "csv_name ../10.1007s10450-018-9958-x.Lab10/EXP-Spectra-co2_RM_8852-nist_isodb-test-multimae.csv\n",
      "csv_name ../10.1007s10450-018-9958-x.Lab11/EXP-Spectra-co2_RM_8852-nist_isodb-test-multimae.csv\n",
      "csv_name ../10.1007s10450-018-9958-x.Lab12/EXP-Spectra-co2_RM_8852-nist_isodb-test-multimae.csv\n",
      "csv_name ../10.1007s10450-018-9958-x.Lab13/EXP-Spectra-co2_RM_8852-nist_isodb-test-multimae.csv\n"
     ]
    }
   ],
   "source": [
    "# https://adsorption.nist.gov/isodb/index.php?DOI=10.1007/s10450-018-9958-x#biblio\n",
    "# https://www.nist.gov/mml/fact/reference-isotherm-co2zsm-5\n",
    "from jarvis.db.jsonutils import loadjson, dumpjson\n",
    "import requests\n",
    "import os\n",
    "from jarvis.core.spectrum import Spectrum\n",
    "\n",
    "press=[0.01, 0.02, 0.03, 0.04, 0.05, 0.06, 0.07, 0.08, 0.09, 0.1, 0.2, 0.3, 0.4, 0.5, 0.6, 0.7, 0.8, 0.9, 1, 1.2, 1.4, 1.6, 1.8, 2, 2.2, 2.4, 2.6, 2.8, 3, 3.2, 3.4, 3.6, 3.8, 4, 4.2, 4.4, 4.6, 4.8, 5, 5.5, 6, 6.5, 7, 7.5, 8, 8.5, 9, 9.5, 10, 10.5, 11, 11.5, 12, 12.5, 13, 13.5, 14, 14.5, 15, 15.5, 16, 16.5, 17, 17.5, 18, 18.5, 19, 19.5, 20, 20.5, 21, 21.5, 22, 22.5, 23, 23.5, 24, 24.5, 25, 25.5, 26, 26.5, 27, 27.5, 28, 28.5, 29, 29.5, 30, 30.5, 31, 31.5, 32, 32.5, 33, 33.5, 34, 34.5, 35, 35.5, 36, 36.5, 37, 37.5, 38, 38.5, 39, 39.5, 40, 40.5, 41, 41.5, 42, 42.5, 43, 43.5, 44, 44.5, 45]\n",
    "\n",
    "def get_csv(lab=\"Lab01\",folder='.'):\n",
    "    fname = \"10.1007s10450-018-9958-x.\" + lab + \".json\"\n",
    "    url = \"https://adsorption.nist.gov/isodb/api/isotherm/\" + fname\n",
    "    r = requests.get(url)\n",
    "\n",
    "    open(fname, \"wb\").write(r.content)\n",
    "\n",
    "    d = loadjson(fname)\n",
    "    # d=loadjson(\"10.1007s10450-018-9958-x.LogisticModel.json\")\n",
    "    pressures = [i[\"pressure\"] for i in d[\"isotherm_data\"]]\n",
    "    co2_data = [i[\"species_data\"][0][\"adsorption\"] for i in d[\"isotherm_data\"]]\n",
    "    s = Spectrum(x=pressures,y=co2_data)\n",
    "    co2_data = s.get_interpolated_values(new_dist=press)\n",
    "    co2_str = \";\".join(map(str, co2_data))\n",
    "\n",
    "#     \n",
    "    csv_name = os.path.join(folder,\"EXP-Spectra-co2_RM_8852-nist_isodb-test-multimae.csv\")\n",
    "    print('csv_name',csv_name)\n",
    "    f = open(csv_name, \"w\")\n",
    "    line = \"id,prediction\\n\"\n",
    "    f.write(line)\n",
    "    line = \"RM-8852\" + \",\" + co2_str + \"\\n\"\n",
    "    f.write(line)\n",
    "    f.close()\n",
    "#     cmd = \"zip \" + csv_name + \".zip \" + csv_name\n",
    "#     os.system(cmd)\n",
    "#     cmd = \"rm \" + csv_name\n",
    "#     os.system(cmd)\n",
    "#     cmd = \"rm \" + fname\n",
    "#     os.system(cmd)\n",
    "    return pressures,co2_data\n",
    "\n",
    "lab=\"LogisticModel\"\n",
    "lab=\"Lab01\"\n",
    "press1,co2_1=get_csv(lab=\"Lab01\")\n",
    "press2,co2_2=get_csv(lab=\"Lab02\",folder=\"../10.1007s10450-018-9958-x.Lab02\")\n",
    "press3,co2_3=get_csv(lab=\"Lab03\",folder=\"../10.1007s10450-018-9958-x.Lab03\")\n",
    "press4,co2_4=get_csv(lab=\"Lab04\",folder=\"../10.1007s10450-018-9958-x.Lab04\")\n",
    "press5,co2_5=get_csv(lab=\"Lab05\",folder=\"../10.1007s10450-018-9958-x.Lab05\")\n",
    "press5,co2_5=get_csv(lab=\"Lab06\",folder=\"../10.1007s10450-018-9958-x.Lab06\")\n",
    "press5,co2_5=get_csv(lab=\"Lab07\",folder=\"../10.1007s10450-018-9958-x.Lab07\")\n",
    "press5,co2_5=get_csv(lab=\"Lab08\",folder=\"../10.1007s10450-018-9958-x.Lab08\")\n",
    "press5,co2_5=get_csv(lab=\"Lab09\",folder=\"../10.1007s10450-018-9958-x.Lab09\")\n",
    "press5,co2_5=get_csv(lab=\"Lab10\",folder=\"../10.1007s10450-018-9958-x.Lab10\")\n",
    "press5,co2_5=get_csv(lab=\"Lab11\",folder=\"../10.1007s10450-018-9958-x.Lab11\")\n",
    "press5,co2_5=get_csv(lab=\"Lab12\",folder=\"../10.1007s10450-018-9958-x.Lab12\")\n",
    "press5,co2_5=get_csv(lab=\"Lab13\",folder=\"../10.1007s10450-018-9958-x.Lab13\")\n",
    "# press3,co2_3=get_csv(\"Lab03\")\n",
    "# press4,co2_4=get_csv(\"Lab04\")\n",
    "# press5,co2_5=get_csv(\"Lab05\")"
   ]
  },
  {
   "cell_type": "code",
   "execution_count": 21,
   "id": "0c4b4597",
   "metadata": {},
   "outputs": [
    {
     "data": {
      "text/plain": [
       "[<matplotlib.lines.Line2D at 0x7f3f1eee9160>]"
      ]
     },
     "execution_count": 21,
     "metadata": {},
     "output_type": "execute_result"
    },
    {
     "data": {
      "image/png": "[encoded data removed]",
      "text/plain": [
       "<Figure size 432x288 with 1 Axes>"
      ]
     },
     "metadata": {
      "needs_background": "light"
     },
     "output_type": "display_data"
    }
   ],
   "source": [
    "%matplotlib inline\n",
    "import matplotlib.pyplot as plt\n",
    "plt.plot(press,co2_1,'.')\n",
    "# plt.plot(press,co2_2,'.')\n",
    "# plt.plot(press,co2_3,'.')\n",
    "# plt.plot(press,co2_5,'.')"
   ]
  },
  {
   "cell_type": "code",
   "execution_count": null,
   "id": "82349fcf",
   "metadata": {},
   "outputs": [],
   "source": []
  },
  {
   "cell_type": "code",
   "execution_count": null,
   "id": "7e9b1ae1",
   "metadata": {},
   "outputs": [],
   "source": []
  }
 ],
 "metadata": {
  "kernelspec": {
   "display_name": "Python 3 (ipykernel)",
   "language": "python",
   "name": "python3"
  },
  "language_info": {
   "codemirror_mode": {
    "name": "ipython",
    "version": 3
   },
   "file_extension": ".py",
   "mimetype": "text/x-python",
   "name": "python",
   "nbconvert_exporter": "python",
   "pygments_lexer": "ipython3",
   "version": "3.8.13"
  }
 },
 "nbformat": 4,
 "nbformat_minor": 5
}
