{
 "cells": [
  {
   "cell_type": "code",
   "execution_count": 15,
   "id": "3879c1d0",
   "metadata": {},
   "outputs": [],
   "source": [
    "# import pandas as pd\n",
    "# from jarvis.db.jsonutils import dumpjson\n",
    "# df = pd.read_csv('https://raw.githubusercontent.com/vstanev1/Supercon/master/Supercon_data.csv')\n",
    "# df=df.sample(frac=1)\n",
    "# df['id']=df.index\n",
    "# mem=[]\n",
    "# for i,ii in df.iterrows():\n",
    "#     info={}\n",
    "#     info['id']=ii['id']\n",
    "#     info['Tc']=ii['Tc']\n",
    "#     info['formula']=ii['name']\n",
    "#     mem.append(info)\n",
    "# dumpjson(filename='supercon_chem.json',data=mem)\n",
    "\n",
    "# test_size = 0.2\n",
    "# n_train = int(len(df)*(1-(test_size)))\n",
    "# n_test = len(df)-n_train\n",
    "\n",
    "# #for leaderboard\n",
    "# mem={}\n",
    "# train={}\n",
    "\n",
    "# test={}\n",
    "# train_df = df[:n_train]\n",
    "\n",
    "# test_df = df[-n_test:]\n",
    "# for i,ii in train_df.iterrows():\n",
    "#     train[str(ii['id'])]=ii['Tc']\n",
    "\n",
    "# for i,ii in test_df.iterrows():\n",
    "#     test[str(ii['id'])]=ii['Tc']\n",
    "# mem['train']=train\n",
    "# mem['test']=test\n",
    "# fname='supercon_chem_Tc.json'\n",
    "# dumpjson(data=mem,filename=fname)"
   ]
  },
  {
   "cell_type": "code",
   "execution_count": 16,
   "id": "56f5701a",
   "metadata": {},
   "outputs": [
    {
     "name": "stderr",
     "output_type": "stream",
     "text": [
      "100%|███████████████████████████████████████████████████████████████████████████████████████████████████████████████████████████████████████████████████████████████████████████| 229k/229k [00:00<00:00, 412kiB/s]\n"
     ]
    },
    {
     "name": "stdout",
     "output_type": "stream",
     "text": [
      "Loading the zipfile...\n",
      "Loading completed.\n"
     ]
    }
   ],
   "source": [
    "from jarvis.db.figshare import  get_request_data\n",
    "dat = get_request_data(js_tag=\"supercon_chem.json\",url=\"https://figshare.com/ndownloader/files/40719260\")"
   ]
  },
  {
   "cell_type": "code",
   "execution_count": 17,
   "id": "0032488d",
   "metadata": {},
   "outputs": [],
   "source": [
    "#http://supercon.nims.go.jp/index_en.html\n",
    "#https://github.com/vstanev1/Supercon\n",
    "import pandas as pd\n",
    "df = pd.DataFrame(dat)"
   ]
  },
  {
   "cell_type": "code",
   "execution_count": 18,
   "id": "9194eae9",
   "metadata": {},
   "outputs": [
    {
     "data": {
      "text/html": [
       "<div>\n",
       "<style scoped>\n",
       "    .dataframe tbody tr th:only-of-type {\n",
       "        vertical-align: middle;\n",
       "    }\n",
       "\n",
       "    .dataframe tbody tr th {\n",
       "        vertical-align: top;\n",
       "    }\n",
       "\n",
       "    .dataframe thead th {\n",
       "        text-align: right;\n",
       "    }\n",
       "</style>\n",
       "<table border=\"1\" class=\"dataframe\">\n",
       "  <thead>\n",
       "    <tr style=\"text-align: right;\">\n",
       "      <th></th>\n",
       "      <th>id</th>\n",
       "      <th>Tc</th>\n",
       "      <th>formula</th>\n",
       "    </tr>\n",
       "  </thead>\n",
       "  <tbody>\n",
       "    <tr>\n",
       "      <th>0</th>\n",
       "      <td>1524</td>\n",
       "      <td>0.00</td>\n",
       "      <td>Tb1Th3.4Ru0.6B4</td>\n",
       "    </tr>\n",
       "    <tr>\n",
       "      <th>1</th>\n",
       "      <td>14309</td>\n",
       "      <td>0.00</td>\n",
       "      <td>B2Th1</td>\n",
       "    </tr>\n",
       "    <tr>\n",
       "      <th>2</th>\n",
       "      <td>6607</td>\n",
       "      <td>1.09</td>\n",
       "      <td>Ni2.5Cu1.5Zr8</td>\n",
       "    </tr>\n",
       "    <tr>\n",
       "      <th>3</th>\n",
       "      <td>4010</td>\n",
       "      <td>24.60</td>\n",
       "      <td>Pr0.91La1Ce0.09Cu1O4</td>\n",
       "    </tr>\n",
       "    <tr>\n",
       "      <th>4</th>\n",
       "      <td>14511</td>\n",
       "      <td>55.00</td>\n",
       "      <td>Pb0.5Ca1Sr2Y0.5Cu2O6.97</td>\n",
       "    </tr>\n",
       "    <tr>\n",
       "      <th>...</th>\n",
       "      <td>...</td>\n",
       "      <td>...</td>\n",
       "      <td>...</td>\n",
       "    </tr>\n",
       "    <tr>\n",
       "      <th>16409</th>\n",
       "      <td>442</td>\n",
       "      <td>0.00</td>\n",
       "      <td>As1Pd7</td>\n",
       "    </tr>\n",
       "    <tr>\n",
       "      <th>16410</th>\n",
       "      <td>14942</td>\n",
       "      <td>0.00</td>\n",
       "      <td>La1.5Gd1.5Ca1Ba2Sr1Cu6.3In0.7O16.62</td>\n",
       "    </tr>\n",
       "    <tr>\n",
       "      <th>16411</th>\n",
       "      <td>3978</td>\n",
       "      <td>0.00</td>\n",
       "      <td>N0.98Pr1</td>\n",
       "    </tr>\n",
       "    <tr>\n",
       "      <th>16412</th>\n",
       "      <td>1078</td>\n",
       "      <td>32.00</td>\n",
       "      <td>Sm0.1La1.7Sr0.2Cu1O4</td>\n",
       "    </tr>\n",
       "    <tr>\n",
       "      <th>16413</th>\n",
       "      <td>14497</td>\n",
       "      <td>0.00</td>\n",
       "      <td>La1.6Y0.4Ba2Ca0.8Cu4.8O11.86</td>\n",
       "    </tr>\n",
       "  </tbody>\n",
       "</table>\n",
       "<p>16414 rows × 3 columns</p>\n",
       "</div>"
      ],
      "text/plain": [
       "          id     Tc                              formula\n",
       "0       1524   0.00                      Tb1Th3.4Ru0.6B4\n",
       "1      14309   0.00                                B2Th1\n",
       "2       6607   1.09                        Ni2.5Cu1.5Zr8\n",
       "3       4010  24.60                 Pr0.91La1Ce0.09Cu1O4\n",
       "4      14511  55.00              Pb0.5Ca1Sr2Y0.5Cu2O6.97\n",
       "...      ...    ...                                  ...\n",
       "16409    442   0.00                               As1Pd7\n",
       "16410  14942   0.00  La1.5Gd1.5Ca1Ba2Sr1Cu6.3In0.7O16.62\n",
       "16411   3978   0.00                             N0.98Pr1\n",
       "16412   1078  32.00                 Sm0.1La1.7Sr0.2Cu1O4\n",
       "16413  14497   0.00         La1.6Y0.4Ba2Ca0.8Cu4.8O11.86\n",
       "\n",
       "[16414 rows x 3 columns]"
      ]
     },
     "execution_count": 18,
     "metadata": {},
     "output_type": "execute_result"
    }
   ],
   "source": [
    "df"
   ]
  },
  {
   "cell_type": "code",
   "execution_count": 19,
   "id": "fc6f18e4",
   "metadata": {},
   "outputs": [],
   "source": [
    "import json,zipfile\n",
    "import numpy as np\n",
    "path = \"../../benchmarks/AI/SinglePropertyPrediction/supercon_chem_Tc.json.zip\"\n",
    "js_tag = \"supercon_chem_Tc.json\"\n",
    "id_data = json.loads(zipfile.ZipFile(path).read(js_tag))"
   ]
  },
  {
   "cell_type": "code",
   "execution_count": 20,
   "id": "ab98e1ec",
   "metadata": {},
   "outputs": [
    {
     "data": {
      "text/plain": [
       "dict_keys(['train', 'test'])"
      ]
     },
     "execution_count": 20,
     "metadata": {},
     "output_type": "execute_result"
    }
   ],
   "source": [
    "id_data.keys()"
   ]
  },
  {
   "cell_type": "code",
   "execution_count": 21,
   "id": "c82f5292",
   "metadata": {},
   "outputs": [],
   "source": [
    "train_ids = np.array(list(id_data['train'].keys()),dtype='int')\n",
    "test_ids = np.array(list(id_data['test'].keys()),dtype='int')"
   ]
  },
  {
   "cell_type": "code",
   "execution_count": 22,
   "id": "ca13aae4",
   "metadata": {},
   "outputs": [],
   "source": [
    "train_df = df[df['id'].isin(train_ids)]\n",
    "test_df = df[df['id'].isin(test_ids)]"
   ]
  },
  {
   "cell_type": "code",
   "execution_count": 24,
   "id": "c6eccbba",
   "metadata": {},
   "outputs": [
    {
     "name": "stdout",
     "output_type": "stream",
     "text": [
      "5.292053422775229\n",
      "CPU times: user 1h 29min 58s, sys: 1.47 s, total: 1h 30min\n",
      "Wall time: 5min 39s\n"
     ]
    }
   ],
   "source": [
    "%%time\n",
    "from jarvis.ai.descriptors.elemental import get_element_fraction_desc\n",
    "from jarvis.ai.descriptors.cfid import CFID,get_chem_only_descriptors\n",
    "from tqdm import tqdm\n",
    "import numpy as np\n",
    "from sklearn.model_selection import train_test_split\n",
    "import lightgbm as lgb\n",
    "from sklearn.metrics import mean_absolute_error\n",
    "\n",
    "lgbm = lgb.LGBMRegressor(\n",
    "    # device=\"gpu\",\n",
    "    n_estimators=1170,\n",
    "    learning_rate=0.15,\n",
    "    num_leaves=273,\n",
    ")\n",
    "X_train=[]\n",
    "y_train=[]\n",
    "X_test=[]\n",
    "y_test=[]\n",
    "train_ids=[]\n",
    "test_ids=[]\n",
    "for i,ii in train_df.iterrows():\n",
    "    desc=get_element_fraction_desc(ii['formula'])\n",
    "    #desc=get_chem_only_descriptors(ii['composition'])[0]\n",
    "    X_train.append(desc)\n",
    "    y_train.append(ii['Tc'])\n",
    "    train_ids.append(ii['id'])\n",
    "for i,ii in test_df.iterrows():\n",
    "    desc=get_element_fraction_desc(ii['formula'])\n",
    "    #desc=get_chem_only_descriptors(ii['composition'])[0]\n",
    "    X_test.append(desc)\n",
    "    y_test.append(ii['Tc'])\n",
    "    test_ids.append(ii['id'])\n",
    "    \n",
    "X_train=np.array(X_train,dtype='float')\n",
    "y_train=np.array(y_train,dtype='float')\n",
    "X_test=np.array(X_test,dtype='float')\n",
    "y_test=np.array(y_test,dtype='float')\n",
    "lgbm.fit(X_train,y_train)\n",
    "pred=lgbm.predict(X_test)\n",
    "print (mean_absolute_error(y_test,pred))"
   ]
  },
  {
   "cell_type": "code",
   "execution_count": 25,
   "id": "b308b64e",
   "metadata": {},
   "outputs": [
    {
     "name": "stdout",
     "output_type": "stream",
     "text": [
      "0.8377923217446582\n"
     ]
    }
   ],
   "source": [
    "from sklearn.metrics import r2_score\n",
    "print(r2_score(y_test,pred))"
   ]
  },
  {
   "cell_type": "code",
   "execution_count": 26,
   "id": "414f7def",
   "metadata": {},
   "outputs": [
    {
     "name": "stdout",
     "output_type": "stream",
     "text": [
      "  adding: AI-SinglePropertyPrediction-Tc-supercon_chem-test-mae.csv (deflated 50%)\n"
     ]
    },
    {
     "data": {
      "text/plain": [
       "0"
      ]
     },
     "execution_count": 26,
     "metadata": {},
     "output_type": "execute_result"
    }
   ],
   "source": [
    "import os\n",
    "f=open('AI-SinglePropertyPrediction-Tc-supercon_chem-test-mae.csv','w')\n",
    "f.write('id,target,prediction\\n')\n",
    "for i,j,k in zip(test_ids,y_test,pred):\n",
    "    line=str(i)+','+str(j)+','+str(k)+'\\n'\n",
    "    f.write(line)\n",
    "f.close()\n",
    "cmd = 'zip AI-SinglePropertyPrediction-Tc-supercon_chem-test-mae.csv.zip AI-SinglePropertyPrediction-Tc-supercon_chem-test-mae.csv'\n",
    "os.system(cmd)\n",
    "cmd='rm AI-SinglePropertyPrediction-Tc-supercon_chem-test-mae.csv'\n",
    "os.system(cmd)\n"
   ]
  },
  {
   "cell_type": "code",
   "execution_count": null,
   "id": "9f732c45",
   "metadata": {},
   "outputs": [],
   "source": []
  }
 ],
 "metadata": {
  "kernelspec": {
   "display_name": "Python 3 (ipykernel)",
   "language": "python",
   "name": "python3"
  },
  "language_info": {
   "codemirror_mode": {
    "name": "ipython",
    "version": 3
   },
   "file_extension": ".py",
   "mimetype": "text/x-python",
   "name": "python",
   "nbconvert_exporter": "python",
   "pygments_lexer": "ipython3",
   "version": "3.8.13"
  }
 },
 "nbformat": 4,
 "nbformat_minor": 5
}
