{
 "cells": [
  {
   "cell_type": "markdown",
   "id": "c50e6610",
   "metadata": {},
   "source": [
    "# CFID-Chem: https://journals.aps.org/prmaterials/abstract/10.1103/PhysRevMaterials.2.083801"
   ]
  },
  {
   "cell_type": "markdown",
   "id": "58790a56",
   "metadata": {},
   "source": [
    "# 1. SSUB"
   ]
  },
  {
   "cell_type": "code",
   "execution_count": 1,
   "id": "e56f01fd",
   "metadata": {},
   "outputs": [
    {
     "name": "stdout",
     "output_type": "stream",
     "text": [
      "Loading the zipfile...\n",
      "Loading completed.\n"
     ]
    }
   ],
   "source": [
    "#https://github.com/wolverton-research-group/qmpy/blob/master/qmpy/data/thermodata/ssub.dat\n",
    "from jarvis.db.figshare import  get_request_data\n",
    "import pandas as pd\n",
    "\n",
    "dat = get_request_data(js_tag=\"ssub.json\",url=\"https://figshare.com/ndownloader/files/40084921\")\n",
    "df = pd.DataFrame(dat)"
   ]
  },
  {
   "cell_type": "code",
   "execution_count": 2,
   "id": "39814101",
   "metadata": {},
   "outputs": [
    {
     "data": {
      "text/html": [
       "<div>\n",
       "<style scoped>\n",
       "    .dataframe tbody tr th:only-of-type {\n",
       "        vertical-align: middle;\n",
       "    }\n",
       "\n",
       "    .dataframe tbody tr th {\n",
       "        vertical-align: top;\n",
       "    }\n",
       "\n",
       "    .dataframe thead th {\n",
       "        text-align: right;\n",
       "    }\n",
       "</style>\n",
       "<table border=\"1\" class=\"dataframe\">\n",
       "  <thead>\n",
       "    <tr style=\"text-align: right;\">\n",
       "      <th></th>\n",
       "      <th>id</th>\n",
       "      <th>formula_energy</th>\n",
       "      <th>formula</th>\n",
       "    </tr>\n",
       "  </thead>\n",
       "  <tbody>\n",
       "    <tr>\n",
       "      <th>0</th>\n",
       "      <td>465</td>\n",
       "      <td>-2.841796e+00</td>\n",
       "      <td>CaO4W</td>\n",
       "    </tr>\n",
       "    <tr>\n",
       "      <th>1</th>\n",
       "      <td>1197</td>\n",
       "      <td>1.766051e-09</td>\n",
       "      <td>Ho</td>\n",
       "    </tr>\n",
       "    <tr>\n",
       "      <th>2</th>\n",
       "      <td>1759</td>\n",
       "      <td>-3.555857e-01</td>\n",
       "      <td>PbTe</td>\n",
       "    </tr>\n",
       "    <tr>\n",
       "      <th>3</th>\n",
       "      <td>1454</td>\n",
       "      <td>-9.540103e-01</td>\n",
       "      <td>MoS2</td>\n",
       "    </tr>\n",
       "    <tr>\n",
       "      <th>4</th>\n",
       "      <td>218</td>\n",
       "      <td>-6.564038e-02</td>\n",
       "      <td>BeH2</td>\n",
       "    </tr>\n",
       "    <tr>\n",
       "      <th>...</th>\n",
       "      <td>...</td>\n",
       "      <td>...</td>\n",
       "      <td>...</td>\n",
       "    </tr>\n",
       "    <tr>\n",
       "      <th>1722</th>\n",
       "      <td>1482</td>\n",
       "      <td>-1.892842e+00</td>\n",
       "      <td>NZr</td>\n",
       "    </tr>\n",
       "    <tr>\n",
       "      <th>1723</th>\n",
       "      <td>773</td>\n",
       "      <td>-2.404511e+00</td>\n",
       "      <td>CrLiO2</td>\n",
       "    </tr>\n",
       "    <tr>\n",
       "      <th>1724</th>\n",
       "      <td>251</td>\n",
       "      <td>-4.946426e-01</td>\n",
       "      <td>BiNa3</td>\n",
       "    </tr>\n",
       "    <tr>\n",
       "      <th>1725</th>\n",
       "      <td>328</td>\n",
       "      <td>-7.213532e-01</td>\n",
       "      <td>Br4Ge</td>\n",
       "    </tr>\n",
       "    <tr>\n",
       "      <th>1726</th>\n",
       "      <td>1960</td>\n",
       "      <td>-2.740610e+00</td>\n",
       "      <td>AlClO</td>\n",
       "    </tr>\n",
       "  </tbody>\n",
       "</table>\n",
       "<p>1727 rows × 3 columns</p>\n",
       "</div>"
      ],
      "text/plain": [
       "        id  formula_energy formula\n",
       "0      465   -2.841796e+00   CaO4W\n",
       "1     1197    1.766051e-09      Ho\n",
       "2     1759   -3.555857e-01    PbTe\n",
       "3     1454   -9.540103e-01    MoS2\n",
       "4      218   -6.564038e-02    BeH2\n",
       "...    ...             ...     ...\n",
       "1722  1482   -1.892842e+00     NZr\n",
       "1723   773   -2.404511e+00  CrLiO2\n",
       "1724   251   -4.946426e-01   BiNa3\n",
       "1725   328   -7.213532e-01   Br4Ge\n",
       "1726  1960   -2.740610e+00   AlClO\n",
       "\n",
       "[1727 rows x 3 columns]"
      ]
     },
     "execution_count": 2,
     "metadata": {},
     "output_type": "execute_result"
    }
   ],
   "source": [
    "df"
   ]
  },
  {
   "cell_type": "code",
   "execution_count": 3,
   "id": "e9f251da",
   "metadata": {},
   "outputs": [
    {
     "name": "stdout",
     "output_type": "stream",
     "text": [
      "1381 345 1726\n"
     ]
    }
   ],
   "source": [
    "import json,zipfile\n",
    "import numpy as np\n",
    "path = \"../../benchmarks/AI/SinglePropertyPrediction/ssub_formula_energy.json.zip\"\n",
    "js_tag = \"ssub_formula_energy.json\"\n",
    "id_data = json.loads(zipfile.ZipFile(path).read(js_tag))\n",
    "train_ids = np.array(list(id_data['train'].keys()),dtype='int')\n",
    "test_ids = np.array(list(id_data['test'].keys()),dtype='int')\n",
    "print(len(train_ids),len(test_ids),len(train_ids)+len(test_ids))\n",
    "train_df = df[df['id'].isin(train_ids)]\n",
    "test_df = df[df['id'].isin(test_ids)]\n",
    "# from jarvis.ai.descriptors.elemental import get_element_fraction_desc\n",
    "# from jarvis.ai.descriptors.cfid import CFID,get_chem_only_descriptors\n",
    "# from tqdm import tqdm\n",
    "# import numpy as np\n",
    "# from sklearn.model_selection import train_test_split\n",
    "# import lightgbm as lgb\n",
    "# from sklearn.metrics import mean_absolute_error\n",
    "\n",
    "# lgbm = lgb.LGBMRegressor(\n",
    "#     # device=\"gpu\",\n",
    "#     n_estimators=1170,\n",
    "#     learning_rate=0.15,\n",
    "#     num_leaves=273,\n",
    "# )\n",
    "# X_train=[]\n",
    "# y_train=[]\n",
    "# X_test=[]\n",
    "# y_test=[]\n",
    "# train_ids=[]\n",
    "# test_ids=[]\n",
    "# for i,ii in train_df.iterrows():\n",
    "#     desc=get_element_fraction_desc(ii['formula'])\n",
    "#     #desc=get_chem_only_descriptors(ii['composition'])[0]\n",
    "#     X_train.append(desc)\n",
    "#     y_train.append(ii['formula_energy'])\n",
    "#     train_ids.append(ii['id'])\n",
    "# for i,ii in test_df.iterrows():\n",
    "#     desc=get_element_fraction_desc(ii['formula'])\n",
    "#     #desc=get_chem_only_descriptors(ii['composition'])[0]\n",
    "#     X_test.append(desc)\n",
    "#     y_test.append(ii['formula_energy'])\n",
    "#     test_ids.append(ii['id'])\n",
    "    \n",
    "# X_train=np.array(X_train,dtype='float')\n",
    "# y_train=np.array(y_train,dtype='float')\n",
    "# X_test=np.array(X_test,dtype='float')\n",
    "# y_test=np.array(y_test,dtype='float')"
   ]
  },
  {
   "cell_type": "code",
   "execution_count": 6,
   "id": "169b3505",
   "metadata": {},
   "outputs": [],
   "source": [
    "from jarvis.ai.descriptors.cfid import CFID,get_chem_only_descriptors\n",
    "from tqdm import tqdm\n",
    "import numpy as np\n",
    "from sklearn.model_selection import train_test_split\n",
    "import lightgbm as lgb\n",
    "from sklearn.metrics import mean_absolute_error\n",
    "\n",
    "lgbm = lgb.LGBMRegressor(\n",
    "    # device=\"gpu\",\n",
    "    n_estimators=1170,\n",
    "    learning_rate=0.15,\n",
    "    num_leaves=273,\n",
    ")\n",
    "\n",
    "X_train=[]\n",
    "y_train=[]\n",
    "X_test=[]\n",
    "y_test=[]\n",
    "train_ids=[]\n",
    "test_ids=[]\n",
    "for i,ii in train_df.iterrows():\n",
    "    #desc=get_element_fraction_desc(ii['formula'])\n",
    "    desc=get_chem_only_descriptors(ii['formula'])[0]\n",
    "    X_train.append(desc)\n",
    "    y_train.append(ii['formula_energy'])\n",
    "    train_ids.append(ii['id'])\n",
    "\n",
    "    \n",
    "for i,ii in test_df.iterrows():\n",
    "    #desc=get_element_fraction_desc(ii['formula'])\n",
    "    desc=get_chem_only_descriptors(ii['formula'])[0]\n",
    "    X_test.append(desc)\n",
    "    y_test.append(ii['formula_energy'])\n",
    "    test_ids.append(ii['id'])\n",
    "    \n",
    "X_train=np.array(X_train,dtype='float')\n",
    "y_train=np.array(y_train,dtype='float')\n",
    "X_test=np.array(X_test,dtype='float')\n",
    "y_test=np.array(y_test,dtype='float')\n"
   ]
  },
  {
   "cell_type": "code",
   "execution_count": 7,
   "id": "7ae943de",
   "metadata": {},
   "outputs": [
    {
     "name": "stdout",
     "output_type": "stream",
     "text": [
      "0.16940084591186252\n",
      "CPU times: user 30min 41s, sys: 1.61 s, total: 30min 43s\n",
      "Wall time: 1min 55s\n"
     ]
    }
   ],
   "source": [
    "%%time\n",
    "lgbm.fit(X_train,y_train)\n",
    "pred=lgbm.predict(X_test)\n",
    "print (mean_absolute_error(y_test,pred))"
   ]
  },
  {
   "cell_type": "code",
   "execution_count": 9,
   "id": "83ddeb81",
   "metadata": {},
   "outputs": [
    {
     "name": "stdout",
     "output_type": "stream",
     "text": [
      "updating: AI-SinglePropertyPrediction-formula_energy-ssub-test-mae.csv (deflated 51%)\n"
     ]
    },
    {
     "data": {
      "text/plain": [
       "0"
      ]
     },
     "execution_count": 9,
     "metadata": {},
     "output_type": "execute_result"
    }
   ],
   "source": [
    "import os\n",
    "f=open('AI-SinglePropertyPrediction-formula_energy-ssub-test-mae.csv','w')\n",
    "f.write('id,target,prediction\\n')\n",
    "for i,j,k in zip(test_ids,y_test,pred):\n",
    "    line=str(i)+','+str(j)+','+str(k)+'\\n'\n",
    "    f.write(line)\n",
    "f.close()\n",
    "cmd = 'zip AI-SinglePropertyPrediction-formula_energy-ssub-test-mae.csv.zip AI-SinglePropertyPrediction-formula_energy-ssub-test-mae.csv'\n",
    "os.system(cmd)\n",
    "cmd='rm AI-SinglePropertyPrediction-formula_energy-ssub-test-mae.csv'\n",
    "os.system(cmd)"
   ]
  },
  {
   "cell_type": "code",
   "execution_count": 10,
   "id": "4b52ff91",
   "metadata": {},
   "outputs": [
    {
     "name": "stdout",
     "output_type": "stream",
     "text": [
      "Loading the zipfile...\n",
      "Loading completed.\n"
     ]
    }
   ],
   "source": [
    "from jarvis.db.figshare import  get_request_data\n",
    "import pandas as pd\n",
    "dat = get_request_data(js_tag=\"supercon_chem.json\",url=\"https://figshare.com/ndownloader/files/40719260\")\n",
    "#http://supercon.nims.go.jp/index_en.html\n",
    "#https://github.com/vstanev1/Supercon\n",
    "\n",
    "df = pd.DataFrame(dat)"
   ]
  },
  {
   "cell_type": "code",
   "execution_count": 11,
   "id": "39eab2eb",
   "metadata": {},
   "outputs": [
    {
     "data": {
      "text/html": [
       "<div>\n",
       "<style scoped>\n",
       "    .dataframe tbody tr th:only-of-type {\n",
       "        vertical-align: middle;\n",
       "    }\n",
       "\n",
       "    .dataframe tbody tr th {\n",
       "        vertical-align: top;\n",
       "    }\n",
       "\n",
       "    .dataframe thead th {\n",
       "        text-align: right;\n",
       "    }\n",
       "</style>\n",
       "<table border=\"1\" class=\"dataframe\">\n",
       "  <thead>\n",
       "    <tr style=\"text-align: right;\">\n",
       "      <th></th>\n",
       "      <th>id</th>\n",
       "      <th>Tc</th>\n",
       "      <th>formula</th>\n",
       "    </tr>\n",
       "  </thead>\n",
       "  <tbody>\n",
       "    <tr>\n",
       "      <th>0</th>\n",
       "      <td>1524</td>\n",
       "      <td>0.00</td>\n",
       "      <td>Tb1Th3.4Ru0.6B4</td>\n",
       "    </tr>\n",
       "    <tr>\n",
       "      <th>1</th>\n",
       "      <td>14309</td>\n",
       "      <td>0.00</td>\n",
       "      <td>B2Th1</td>\n",
       "    </tr>\n",
       "    <tr>\n",
       "      <th>2</th>\n",
       "      <td>6607</td>\n",
       "      <td>1.09</td>\n",
       "      <td>Ni2.5Cu1.5Zr8</td>\n",
       "    </tr>\n",
       "    <tr>\n",
       "      <th>3</th>\n",
       "      <td>4010</td>\n",
       "      <td>24.60</td>\n",
       "      <td>Pr0.91La1Ce0.09Cu1O4</td>\n",
       "    </tr>\n",
       "    <tr>\n",
       "      <th>4</th>\n",
       "      <td>14511</td>\n",
       "      <td>55.00</td>\n",
       "      <td>Pb0.5Ca1Sr2Y0.5Cu2O6.97</td>\n",
       "    </tr>\n",
       "    <tr>\n",
       "      <th>...</th>\n",
       "      <td>...</td>\n",
       "      <td>...</td>\n",
       "      <td>...</td>\n",
       "    </tr>\n",
       "    <tr>\n",
       "      <th>16409</th>\n",
       "      <td>442</td>\n",
       "      <td>0.00</td>\n",
       "      <td>As1Pd7</td>\n",
       "    </tr>\n",
       "    <tr>\n",
       "      <th>16410</th>\n",
       "      <td>14942</td>\n",
       "      <td>0.00</td>\n",
       "      <td>La1.5Gd1.5Ca1Ba2Sr1Cu6.3In0.7O16.62</td>\n",
       "    </tr>\n",
       "    <tr>\n",
       "      <th>16411</th>\n",
       "      <td>3978</td>\n",
       "      <td>0.00</td>\n",
       "      <td>N0.98Pr1</td>\n",
       "    </tr>\n",
       "    <tr>\n",
       "      <th>16412</th>\n",
       "      <td>1078</td>\n",
       "      <td>32.00</td>\n",
       "      <td>Sm0.1La1.7Sr0.2Cu1O4</td>\n",
       "    </tr>\n",
       "    <tr>\n",
       "      <th>16413</th>\n",
       "      <td>14497</td>\n",
       "      <td>0.00</td>\n",
       "      <td>La1.6Y0.4Ba2Ca0.8Cu4.8O11.86</td>\n",
       "    </tr>\n",
       "  </tbody>\n",
       "</table>\n",
       "<p>16414 rows × 3 columns</p>\n",
       "</div>"
      ],
      "text/plain": [
       "          id     Tc                              formula\n",
       "0       1524   0.00                      Tb1Th3.4Ru0.6B4\n",
       "1      14309   0.00                                B2Th1\n",
       "2       6607   1.09                        Ni2.5Cu1.5Zr8\n",
       "3       4010  24.60                 Pr0.91La1Ce0.09Cu1O4\n",
       "4      14511  55.00              Pb0.5Ca1Sr2Y0.5Cu2O6.97\n",
       "...      ...    ...                                  ...\n",
       "16409    442   0.00                               As1Pd7\n",
       "16410  14942   0.00  La1.5Gd1.5Ca1Ba2Sr1Cu6.3In0.7O16.62\n",
       "16411   3978   0.00                             N0.98Pr1\n",
       "16412   1078  32.00                 Sm0.1La1.7Sr0.2Cu1O4\n",
       "16413  14497   0.00         La1.6Y0.4Ba2Ca0.8Cu4.8O11.86\n",
       "\n",
       "[16414 rows x 3 columns]"
      ]
     },
     "execution_count": 11,
     "metadata": {},
     "output_type": "execute_result"
    }
   ],
   "source": [
    "df"
   ]
  },
  {
   "cell_type": "code",
   "execution_count": 12,
   "id": "dabb6a57",
   "metadata": {},
   "outputs": [],
   "source": [
    "import json,zipfile\n",
    "import numpy as np\n",
    "path = \"../../benchmarks/AI/SinglePropertyPrediction/supercon_chem_Tc.json.zip\"\n",
    "js_tag = \"supercon_chem_Tc.json\"\n",
    "id_data = json.loads(zipfile.ZipFile(path).read(js_tag))\n",
    "train_ids = np.array(list(id_data['train'].keys()),dtype='int')\n",
    "test_ids = np.array(list(id_data['test'].keys()),dtype='int')\n",
    "train_df = df[df['id'].isin(train_ids)]\n",
    "test_df = df[df['id'].isin(test_ids)]"
   ]
  },
  {
   "cell_type": "code",
   "execution_count": 13,
   "id": "1ab704cc",
   "metadata": {},
   "outputs": [],
   "source": [
    "from jarvis.ai.descriptors.cfid import CFID,get_chem_only_descriptors\n",
    "from tqdm import tqdm\n",
    "import numpy as np\n",
    "from sklearn.model_selection import train_test_split\n",
    "import lightgbm as lgb\n",
    "from sklearn.metrics import mean_absolute_error\n",
    "\n",
    "lgbm = lgb.LGBMRegressor(\n",
    "    # device=\"gpu\",\n",
    "    n_estimators=1170,\n",
    "    learning_rate=0.15,\n",
    "    num_leaves=273,\n",
    ")\n",
    "\n",
    "X_train=[]\n",
    "y_train=[]\n",
    "X_test=[]\n",
    "y_test=[]\n",
    "train_ids=[]\n",
    "test_ids=[]\n",
    "for i,ii in train_df.iterrows():\n",
    "    #desc=get_element_fraction_desc(ii['formula'])\n",
    "    desc=get_chem_only_descriptors(ii['formula'])[0]\n",
    "    X_train.append(desc)\n",
    "    y_train.append(ii['Tc'])\n",
    "    train_ids.append(ii['id'])\n",
    "\n",
    "    \n",
    "for i,ii in test_df.iterrows():\n",
    "    #desc=get_element_fraction_desc(ii['formula'])\n",
    "    desc=get_chem_only_descriptors(ii['formula'])[0]\n",
    "    X_test.append(desc)\n",
    "    y_test.append(ii['Tc'])\n",
    "    test_ids.append(ii['id'])\n",
    "    \n",
    "X_train=np.array(X_train,dtype='float')\n",
    "y_train=np.array(y_train,dtype='float')\n",
    "X_test=np.array(X_test,dtype='float')\n",
    "y_test=np.array(y_test,dtype='float')\n"
   ]
  },
  {
   "cell_type": "code",
   "execution_count": 14,
   "id": "717974f1",
   "metadata": {},
   "outputs": [
    {
     "name": "stdout",
     "output_type": "stream",
     "text": [
      "5.032619346040378\n",
      "CPU times: user 1h 20min 33s, sys: 2.78 s, total: 1h 20min 35s\n",
      "Wall time: 5min 2s\n"
     ]
    }
   ],
   "source": [
    "%%time\n",
    "lgbm.fit(X_train,y_train)\n",
    "pred=lgbm.predict(X_test)\n",
    "print (mean_absolute_error(y_test,pred))"
   ]
  },
  {
   "cell_type": "code",
   "execution_count": 15,
   "id": "f94d0979",
   "metadata": {},
   "outputs": [
    {
     "name": "stdout",
     "output_type": "stream",
     "text": [
      "  adding: AI-SinglePropertyPrediction-Tc-supercon_chem-test-mae.csv (deflated 50%)\n"
     ]
    },
    {
     "data": {
      "text/plain": [
       "0"
      ]
     },
     "execution_count": 15,
     "metadata": {},
     "output_type": "execute_result"
    }
   ],
   "source": [
    "import os\n",
    "f=open('AI-SinglePropertyPrediction-Tc-supercon_chem-test-mae.csv','w')\n",
    "f.write('id,target,prediction\\n')\n",
    "for i,j,k in zip(test_ids,y_test,pred):\n",
    "    line=str(i)+','+str(j)+','+str(k)+'\\n'\n",
    "    f.write(line)\n",
    "f.close()\n",
    "cmd = 'zip AI-SinglePropertyPrediction-Tc-supercon_chem-test-mae.csv.zip AI-SinglePropertyPrediction-Tc-supercon_chem-test-mae.csv'\n",
    "os.system(cmd)\n",
    "cmd='rm AI-SinglePropertyPrediction-Tc-supercon_chem-test-mae.csv'\n",
    "os.system(cmd)"
   ]
  },
  {
   "cell_type": "code",
   "execution_count": 16,
   "id": "8f8b9bae",
   "metadata": {},
   "outputs": [
    {
     "data": {
      "text/plain": [
       "0.8429774983542446"
      ]
     },
     "execution_count": 16,
     "metadata": {},
     "output_type": "execute_result"
    }
   ],
   "source": [
    "from sklearn.metrics import r2_score\n",
    "r2_score(y_test,pred)"
   ]
  },
  {
   "cell_type": "code",
   "execution_count": null,
   "id": "b3139011",
   "metadata": {},
   "outputs": [],
   "source": []
  },
  {
   "cell_type": "code",
   "execution_count": 17,
   "id": "d0b6f6a6",
   "metadata": {},
   "outputs": [
    {
     "name": "stdout",
     "output_type": "stream",
     "text": [
      "Loading the zipfile...\n",
      "Loading completed.\n"
     ]
    }
   ],
   "source": [
    "import json,zipfile\n",
    "import numpy as np\n",
    "from jarvis.db.figshare import  get_request_data\n",
    "import pandas as pd\n",
    "dat = get_request_data(js_tag=\"mag2d_chem.json\",url=\"https://figshare.com/ndownloader/files/40720004\")\n",
    "#http://supercon.nims.go.jp/index_en.html\n",
    "#https://github.com/vstanev1/Supercon\n",
    "\n",
    "df = pd.DataFrame(dat)\n",
    "path = \"../../benchmarks/AI/SinglePropertyPrediction/mag2d_chem_magnetic_moment.json.zip\"\n",
    "js_tag = \"mag2d_chem_magnetic_moment.json\"\n",
    "id_data = json.loads(zipfile.ZipFile(path).read(js_tag))\n",
    "train_ids = np.array(list(id_data['train'].keys()),dtype='int')\n",
    "test_ids = np.array(list(id_data['test'].keys()),dtype='int')\n",
    "train_df = df[df['id'].isin(train_ids)]\n",
    "test_df = df[df['id'].isin(test_ids)]"
   ]
  },
  {
   "cell_type": "code",
   "execution_count": 18,
   "id": "e03ee360",
   "metadata": {},
   "outputs": [
    {
     "data": {
      "text/html": [
       "<div>\n",
       "<style scoped>\n",
       "    .dataframe tbody tr th:only-of-type {\n",
       "        vertical-align: middle;\n",
       "    }\n",
       "\n",
       "    .dataframe tbody tr th {\n",
       "        vertical-align: top;\n",
       "    }\n",
       "\n",
       "    .dataframe thead th {\n",
       "        text-align: right;\n",
       "    }\n",
       "</style>\n",
       "<table border=\"1\" class=\"dataframe\">\n",
       "  <thead>\n",
       "    <tr style=\"text-align: right;\">\n",
       "      <th></th>\n",
       "      <th>id</th>\n",
       "      <th>magnetic_moment</th>\n",
       "      <th>formula</th>\n",
       "    </tr>\n",
       "  </thead>\n",
       "  <tbody>\n",
       "    <tr>\n",
       "      <th>0</th>\n",
       "      <td>49</td>\n",
       "      <td>5.0780</td>\n",
       "      <td>V1Cr1Ge2Te6</td>\n",
       "    </tr>\n",
       "    <tr>\n",
       "      <th>1</th>\n",
       "      <td>4</td>\n",
       "      <td>3.1560</td>\n",
       "      <td>Cr1Co1Si2Te6</td>\n",
       "    </tr>\n",
       "    <tr>\n",
       "      <th>2</th>\n",
       "      <td>212</td>\n",
       "      <td>3.0161</td>\n",
       "      <td>Ta1Cr1Sn1Ge1Te6</td>\n",
       "    </tr>\n",
       "    <tr>\n",
       "      <th>3</th>\n",
       "      <td>153</td>\n",
       "      <td>2.7459</td>\n",
       "      <td>Cr1Sn1Te6P1Au1</td>\n",
       "    </tr>\n",
       "    <tr>\n",
       "      <th>4</th>\n",
       "      <td>46</td>\n",
       "      <td>2.2800</td>\n",
       "      <td>Ti1Cr1Si2Te6</td>\n",
       "    </tr>\n",
       "    <tr>\n",
       "      <th>...</th>\n",
       "      <td>...</td>\n",
       "      <td>...</td>\n",
       "      <td>...</td>\n",
       "    </tr>\n",
       "    <tr>\n",
       "      <th>221</th>\n",
       "      <td>57</td>\n",
       "      <td>2.9670</td>\n",
       "      <td>Y1Cr1Si1Te6P1</td>\n",
       "    </tr>\n",
       "    <tr>\n",
       "      <th>222</th>\n",
       "      <td>97</td>\n",
       "      <td>5.6479</td>\n",
       "      <td>Cr1Ge2Te6W1</td>\n",
       "    </tr>\n",
       "    <tr>\n",
       "      <th>223</th>\n",
       "      <td>60</td>\n",
       "      <td>2.6981</td>\n",
       "      <td>Ta1Cr1In1Te6Pb1</td>\n",
       "    </tr>\n",
       "    <tr>\n",
       "      <th>224</th>\n",
       "      <td>152</td>\n",
       "      <td>5.0129</td>\n",
       "      <td>Cr1Sn1Te6Mo1P1</td>\n",
       "    </tr>\n",
       "    <tr>\n",
       "      <th>225</th>\n",
       "      <td>34</td>\n",
       "      <td>6.2060</td>\n",
       "      <td>Cr2Si2Te6</td>\n",
       "    </tr>\n",
       "  </tbody>\n",
       "</table>\n",
       "<p>226 rows × 3 columns</p>\n",
       "</div>"
      ],
      "text/plain": [
       "      id  magnetic_moment          formula\n",
       "0     49           5.0780      V1Cr1Ge2Te6\n",
       "1      4           3.1560     Cr1Co1Si2Te6\n",
       "2    212           3.0161  Ta1Cr1Sn1Ge1Te6\n",
       "3    153           2.7459   Cr1Sn1Te6P1Au1\n",
       "4     46           2.2800     Ti1Cr1Si2Te6\n",
       "..   ...              ...              ...\n",
       "221   57           2.9670    Y1Cr1Si1Te6P1\n",
       "222   97           5.6479      Cr1Ge2Te6W1\n",
       "223   60           2.6981  Ta1Cr1In1Te6Pb1\n",
       "224  152           5.0129   Cr1Sn1Te6Mo1P1\n",
       "225   34           6.2060        Cr2Si2Te6\n",
       "\n",
       "[226 rows x 3 columns]"
      ]
     },
     "execution_count": 18,
     "metadata": {},
     "output_type": "execute_result"
    }
   ],
   "source": [
    "df"
   ]
  },
  {
   "cell_type": "code",
   "execution_count": 19,
   "id": "903dc4a5",
   "metadata": {},
   "outputs": [],
   "source": [
    "from jarvis.ai.descriptors.cfid import CFID,get_chem_only_descriptors\n",
    "from tqdm import tqdm\n",
    "import numpy as np\n",
    "from sklearn.model_selection import train_test_split\n",
    "import lightgbm as lgb\n",
    "from sklearn.metrics import mean_absolute_error\n",
    "\n",
    "lgbm = lgb.LGBMRegressor(\n",
    "    # device=\"gpu\",\n",
    "    n_estimators=1170,\n",
    "    learning_rate=0.15,\n",
    "    num_leaves=273,\n",
    ")\n",
    "\n",
    "X_train=[]\n",
    "y_train=[]\n",
    "X_test=[]\n",
    "y_test=[]\n",
    "train_ids=[]\n",
    "test_ids=[]\n",
    "for i,ii in train_df.iterrows():\n",
    "    #desc=get_element_fraction_desc(ii['formula'])\n",
    "    desc=get_chem_only_descriptors(ii['formula'])[0]\n",
    "    X_train.append(desc)\n",
    "    y_train.append(ii['magnetic_moment'])\n",
    "    train_ids.append(ii['id'])\n",
    "\n",
    "    \n",
    "for i,ii in test_df.iterrows():\n",
    "    #desc=get_element_fraction_desc(ii['formula'])\n",
    "    desc=get_chem_only_descriptors(ii['formula'])[0]\n",
    "    X_test.append(desc)\n",
    "    y_test.append(ii['magnetic_moment'])\n",
    "    test_ids.append(ii['id'])\n",
    "    \n",
    "X_train=np.array(X_train,dtype='float')\n",
    "y_train=np.array(y_train,dtype='float')\n",
    "X_test=np.array(X_test,dtype='float')\n",
    "y_test=np.array(y_test,dtype='float')\n"
   ]
  },
  {
   "cell_type": "code",
   "execution_count": 20,
   "id": "fa8d3c7f",
   "metadata": {},
   "outputs": [
    {
     "name": "stdout",
     "output_type": "stream",
     "text": [
      "0.42360869868072787\n",
      "CPU times: user 8.38 s, sys: 70 ms, total: 8.45 s\n",
      "Wall time: 535 ms\n"
     ]
    }
   ],
   "source": [
    "%%time\n",
    "lgbm.fit(X_train,y_train)\n",
    "pred=lgbm.predict(X_test)\n",
    "print (mean_absolute_error(y_test,pred))"
   ]
  },
  {
   "cell_type": "code",
   "execution_count": 21,
   "id": "f72a7ab3",
   "metadata": {},
   "outputs": [
    {
     "name": "stdout",
     "output_type": "stream",
     "text": [
      "  adding: AI-SinglePropertyPrediction-magnetic_moment-mag2d_chem-test-mae.csv (deflated 49%)\n"
     ]
    },
    {
     "data": {
      "text/plain": [
       "0"
      ]
     },
     "execution_count": 21,
     "metadata": {},
     "output_type": "execute_result"
    }
   ],
   "source": [
    "import os\n",
    "f=open('AI-SinglePropertyPrediction-magnetic_moment-mag2d_chem-test-mae.csv','w')\n",
    "f.write('id,target,prediction\\n')\n",
    "for i,j,k in zip(test_ids,y_test,pred):\n",
    "    line=str(i)+','+str(j)+','+str(k)+'\\n'\n",
    "    f.write(line)\n",
    "f.close()\n",
    "cmd = 'zip AI-SinglePropertyPrediction-magnetic_moment-mag2d_chem-test-mae.csv.zip AI-SinglePropertyPrediction-magnetic_moment-mag2d_chem-test-mae.csv'\n",
    "os.system(cmd)\n",
    "cmd='rm AI-SinglePropertyPrediction-magnetic_moment-mag2d_chem-test-mae.csv'\n",
    "os.system(cmd)"
   ]
  },
  {
   "cell_type": "code",
   "execution_count": null,
   "id": "2f1d29d0",
   "metadata": {},
   "outputs": [],
   "source": []
  }
 ],
 "metadata": {
  "kernelspec": {
   "display_name": "Python 3 (ipykernel)",
   "language": "python",
   "name": "python3"
  },
  "language_info": {
   "codemirror_mode": {
    "name": "ipython",
    "version": 3
   },
   "file_extension": ".py",
   "mimetype": "text/x-python",
   "name": "python",
   "nbconvert_exporter": "python",
   "pygments_lexer": "ipython3",
   "version": "3.8.13"
  }
 },
 "nbformat": 4,
 "nbformat_minor": 5
}
