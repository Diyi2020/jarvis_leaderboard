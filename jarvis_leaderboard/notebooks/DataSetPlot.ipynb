{
 "cells": [
  {
   "cell_type": "code",
   "execution_count": 1,
   "id": "9f195b6a",
   "metadata": {},
   "outputs": [],
   "source": [
    "import matplotlib.pyplot as plt\n",
    "%matplotlib inline\n"
   ]
  },
  {
   "cell_type": "code",
   "execution_count": 2,
   "id": "a3f0119f",
   "metadata": {},
   "outputs": [],
   "source": [
    "# from jarvis.db.figshare import data\n",
    "# dft_3d = data('dft_3d')\n",
    "# #mp = data('megnet')"
   ]
  },
  {
   "cell_type": "code",
   "execution_count": 4,
   "id": "bf28f19f",
   "metadata": {},
   "outputs": [
    {
     "name": "stdout",
     "output_type": "stream",
     "text": [
      "__init__.py  dataset\t\t      jarvis_serve.py\tnotebooks   scripts\r\n",
      "benchmarks   jarvis_populate_data.py  jarvis_upload.py\trebuild.py  tests\r\n"
     ]
    }
   ],
   "source": [
    "!ls .."
   ]
  },
  {
   "cell_type": "code",
   "execution_count": 65,
   "id": "fbfc531f",
   "metadata": {},
   "outputs": [],
   "source": [
    "import glob\n",
    "import zipfile\n",
    "import json\n",
    "from jarvis.db.jsonutils import loadjson\n",
    "from collections import defaultdict\n",
    "info = defaultdict()\n",
    "id_info = defaultdict()\n",
    "for i in glob.glob(\"../benchmarks/*/*.csv.zip\"):\n",
    "\n",
    "    fname = i.split(\"/\")[-1].split(\".csv.zip\")[0]\n",
    "    temp = fname.split(\"-\")\n",
    "    dataset = temp[3]\n",
    "    \n",
    "    prop = temp[2]\n",
    "    submod = temp[1]\n",
    "    method = temp[0]\n",
    "    json_name = dataset + \"_\" + prop + \".json\"\n",
    "    json_path = '../dataset/'+method+'/'+submod+'/'+json_name+'.zip'\n",
    "    z = zipfile.ZipFile(json_path)\n",
    "    json_data = json.loads(z.read(json_name))\n",
    "    if dataset not in id_info:\n",
    "        id_info[dataset]=[]\n",
    "    if \"val\" in json_data:  # sometimes just train-test\n",
    "        data_size = (\n",
    "            len(json_data[\"train\"])\n",
    "            + len(json_data[\"val\"])\n",
    "            + len(json_data[\"test\"])\n",
    "        )\n",
    "        for m in list(json_data[\"train\"].keys()):\n",
    "          \n",
    "                id_info[dataset].append(m)\n",
    "        for m in list(json_data[\"val\"].keys()):\n",
    "           \n",
    "                id_info[dataset].append(m)\n",
    "        for m in list(json_data[\"test\"].keys()):\n",
    "            \n",
    "                id_info[dataset].append(m)\n",
    "    else:\n",
    "        data_size = len(json_data[\"train\"]) + len(json_data[\"test\"])\n",
    "        for m in list(json_data[\"train\"].keys()):\n",
    "            \n",
    "                id_info[dataset].append(m)\n",
    "\n",
    "        for m in list(json_data[\"test\"].keys()):\n",
    "           \n",
    "                id_info[dataset].append(m)\n",
    "#     if dataset not in info:\n",
    "#         info[dataset]=data_size #[data_size]\n",
    "#     else:\n",
    "#         info[dataset]=info[dataset]+data_size #.append(data_size)\n",
    "\n",
    "    #print (dataset,prop,submod,method,json_name)\n",
    "    #break"
   ]
  },
  {
   "cell_type": "code",
   "execution_count": 130,
   "id": "87487f9f",
   "metadata": {},
   "outputs": [
    {
     "name": "stdout",
     "output_type": "stream",
     "text": [
      "dft_3d 3092080 55713\n",
      "alignn_ff_db 1228444 307111\n",
      "qm9_std_jctc 1569948 130829\n",
      "qmof 20424 20424\n",
      "snumat 10386 10386\n",
      "qe_tb 2488722 829574\n",
      "megnet 138478 69239\n",
      "hmof 963557 137651\n",
      "edos_pdos 14243 14243\n",
      "ssub 5178 1726\n",
      "stem_2d_image 18300 9150\n",
      "arXiv 908946 87148\n",
      "pubchem 400500 44500\n"
     ]
    }
   ],
   "source": [
    "import numpy as np\n",
    "names=[]\n",
    "all_ids=[]\n",
    "unique_ids=[]\n",
    "for i,j in id_info.items():\n",
    "    print (i,len(j),len(set(j)))\n",
    "    names.append(i)\n",
    "    all_ids.append(len(j))\n",
    "    unique_ids.append(len(set(j)))\n",
    "  \n",
    "\n",
    "order=np.argsort(all_ids)[::-1]\n",
    "names=np.array(names)[order]\n",
    "all_ids=np.array(all_ids)[order]\n",
    "unique_ids=np.array(unique_ids)[order]\n",
    "import matplotlib\n",
    "%matplotlib inline\n",
    "import matplotlib.pyplot as plt\n",
    "from matplotlib.gridspec import GridSpec\n",
    "\n",
    "the_grid = GridSpec(1, 2)\n",
    "plt.rcParams.update({'font.size': 18})\n",
    "plt.figure(figsize=(10,6))\n",
    "\n",
    "plt.subplot(the_grid[0, 0])\n",
    "plt.title('(a) All datapoints')\n",
    "plt.bar(names,all_ids,facecolor = '#2ab0ff', edgecolor='#169acf',alpha=0.7)\n",
    "plt.xticks(rotation=90)\n",
    "\n",
    "plt.subplot(the_grid[0, 1])\n",
    "plt.title('(b) Unique datapoints')\n",
    "plt.bar(names,unique_ids,facecolor = '#2ab0ff', edgecolor='#169acf',alpha=0.7)\n",
    "plt.xticks(rotation=90)\n",
    "\n",
    "plt.tight_layout()\n",
    "#plt.show()\n",
    "plt.savefig('data_dist.pdf')\n",
    "plt.close()"
   ]
  },
  {
   "cell_type": "code",
   "execution_count": 98,
   "id": "58d844d0",
   "metadata": {},
   "outputs": [
    {
     "name": "stdout",
     "output_type": "stream",
     "text": [
      "dft_3d\n",
      "Obtaining 3D dataset 76k ...\n",
      "Reference:https://www.nature.com/articles/s41524-020-00440-1\n",
      "Other versions:https://doi.org/10.6084/m9.figshare.6815699\n",
      "Loading the zipfile...\n",
      "Loading completed.\n",
      "qe_tb\n",
      "Obtaining QETB dataset 860k...\n",
      "Reference:https://arxiv.org/abs/2112.11585\n",
      "Loading the zipfile...\n",
      "Loading completed.\n",
      "qm9_std_jctc\n",
      "Obtaining QM9 standardized dataset 130k,From https://doi.org/10.1021/acs.jctc.7b00577,+\n",
      "Reference:https://www.nature.com/articles/sdata201422\n"
     ]
    },
    {
     "name": "stderr",
     "output_type": "stream",
     "text": [
      "100%|████████████████████████████████████████████████████████████████████████████████████████████████████████████████████████████████████████████████████████████████████████| 78.0M/78.0M [00:26<00:00, 2.95MiB/s]\n"
     ]
    },
    {
     "name": "stdout",
     "output_type": "stream",
     "text": [
      "Loading the zipfile...\n",
      "Loading completed.\n",
      "alignn_ff_db\n",
      "Obtaining ALIGNN-FF training DB 300k ...\n",
      "Reference:https://arxiv.org/abs/2209.05554\n"
     ]
    },
    {
     "name": "stderr",
     "output_type": "stream",
     "text": [
      "100%|████████████████████████████████████████████████████████████████████████████████████████████████████████████████████████████████████████████████████████████████████████| 72.5M/72.5M [00:22<00:00, 3.24MiB/s]\n"
     ]
    },
    {
     "name": "stdout",
     "output_type": "stream",
     "text": [
      "Loading the zipfile...\n",
      "Loading completed.\n",
      "hmof\n",
      "Obtaining hMOF dataset 137k...\n",
      "Reference:https://doi.org/10.1021/acs.jpcc.6b08729\n"
     ]
    },
    {
     "name": "stderr",
     "output_type": "stream",
     "text": [
      "100%|██████████████████████████████████████████████████████████████████████████████████████████████████████████████████████████████████████████████████████████████████████████| 388M/388M [01:44<00:00, 3.71MiB/s]\n"
     ]
    },
    {
     "name": "stdout",
     "output_type": "stream",
     "text": [
      "Loading the zipfile...\n",
      "Loading completed.\n",
      "arXiv\n",
      "Obtaining arXiv dataset 1.8 million...\n",
      "Reference:https://www.kaggle.com/Cornell-University/arxiv\n"
     ]
    },
    {
     "name": "stderr",
     "output_type": "stream",
     "text": [
      "100%|██████████████████████████████████████████████████████████████████████████████████████████████████████████████████████████████████████████████████████████████████████████| 945M/945M [03:10<00:00, 4.96MiB/s]\n"
     ]
    },
    {
     "name": "stdout",
     "output_type": "stream",
     "text": [
      "Loading the zipfile...\n",
      "Loading completed.\n",
      "pubchem\n",
      "megnet\n",
      "Obtaining MEGNET-3D CFID dataset 69k...\n",
      "Reference:https://pubs.acs.org/doi/10.1021/acs.chemmater.9b01294\n"
     ]
    },
    {
     "name": "stderr",
     "output_type": "stream",
     "text": [
      "100%|██████████████████████████████████████████████████████████████████████████████████████████████████████████████████████████████████████████████████████████████████████████| 562M/562M [02:11<00:00, 4.27MiB/s]\n"
     ]
    },
    {
     "name": "stdout",
     "output_type": "stream",
     "text": [
      "Loading the zipfile...\n",
      "Loading completed.\n",
      "qmof\n",
      "Obtaining QMOF dataset 20k...\n",
      "Reference:https://www.cell.com/matter/fulltext/S2590-2385(21)00070-9\n",
      "Loading the zipfile...\n",
      "Loading completed.\n",
      "stem_2d_image\n",
      "edos_pdos\n",
      "Interpolated electronic total dos spin-up dataset 55k...\n",
      "Reference:https://www.nature.com/articles/s41524-020-00440-1\n",
      "Loading the zipfile...\n",
      "Loading completed.\n",
      "snumat\n",
      "Obtaining SNUMAT Hybrid functional dataset 10k...\n",
      "Reference:https://www.nature.com/articles/s41597-020-00723-8\n"
     ]
    },
    {
     "name": "stderr",
     "output_type": "stream",
     "text": [
      "100%|████████████████████████████████████████████████████████████████████████████████████████████████████████████████████████████████████████████████████████████████████████| 7.91M/7.91M [00:06<00:00, 1.19MiB/s]\n"
     ]
    },
    {
     "name": "stdout",
     "output_type": "stream",
     "text": [
      "Loading the zipfile...\n",
      "Loading completed.\n",
      "ssub\n"
     ]
    }
   ],
   "source": [
    "from jarvis.db.figshare import data\n",
    "#names=['dft_2d']\n",
    "elements=[]\n",
    "for i in names:\n",
    "    print (i)\n",
    "    try:\n",
    "        dd=data(i)\n",
    "        if 'atoms' in dd[0]:\n",
    "            for j in dd:\n",
    "                for k in j['atoms']['elements']:\n",
    "                    elements.append(k)\n",
    "    except:\n",
    "        pass\n",
    "            \n",
    "    "
   ]
  },
  {
   "cell_type": "code",
   "execution_count": 110,
   "id": "1e39dffa",
   "metadata": {},
   "outputs": [
    {
     "data": {
      "text/plain": [
       "27315319"
      ]
     },
     "execution_count": 110,
     "metadata": {},
     "output_type": "execute_result"
    }
   ],
   "source": [
    "from collections import Counter\n",
    "all_els = dict(Counter(elements))\n",
    "total=np.array(list(all_els.values())).sum()\n",
    "total"
   ]
  },
  {
   "cell_type": "code",
   "execution_count": 116,
   "id": "c79b4d50",
   "metadata": {},
   "outputs": [],
   "source": [
    "f=open('elements.csv','w')\n",
    "for i,j in all_els.items():\n",
    "    line=str(i)+' '+str(100*j/total)+'\\n'\n",
    "    f.write(line)\n",
    "\n",
    "    #print (i,100*j/total)\n",
    "f.close()"
   ]
  },
  {
   "cell_type": "code",
   "execution_count": 128,
   "id": "90502ae7",
   "metadata": {},
   "outputs": [
    {
     "name": "stderr",
     "output_type": "stream",
     "text": [
      "/home/kamalch/miniconda3/envs/gpaw/lib/python3.8/site-packages/jarvis/analysis/periodic/ptable.py:74: SettingWithCopyWarning: \n",
      "A value is trying to be set on a copy of a slice from a DataFrame\n",
      "\n",
      "See the caveats in the documentation: https://pandas.pydata.org/pandas-docs/stable/user_guide/indexing.html#returning-a-view-versus-a-copy\n",
      "  elements.period[i] = \"La\"\n",
      "/home/kamalch/miniconda3/envs/gpaw/lib/python3.8/site-packages/jarvis/analysis/periodic/ptable.py:75: SettingWithCopyWarning: \n",
      "A value is trying to be set on a copy of a slice from a DataFrame\n",
      "\n",
      "See the caveats in the documentation: https://pandas.pydata.org/pandas-docs/stable/user_guide/indexing.html#returning-a-view-versus-a-copy\n",
      "  elements.group[i] = str(count + 4)\n",
      "/home/kamalch/miniconda3/envs/gpaw/lib/python3.8/site-packages/jarvis/analysis/periodic/ptable.py:80: SettingWithCopyWarning: \n",
      "A value is trying to be set on a copy of a slice from a DataFrame\n",
      "\n",
      "See the caveats in the documentation: https://pandas.pydata.org/pandas-docs/stable/user_guide/indexing.html#returning-a-view-versus-a-copy\n",
      "  elements.period[i] = \"Ac\"\n",
      "/home/kamalch/miniconda3/envs/gpaw/lib/python3.8/site-packages/jarvis/analysis/periodic/ptable.py:81: SettingWithCopyWarning: \n",
      "A value is trying to be set on a copy of a slice from a DataFrame\n",
      "\n",
      "See the caveats in the documentation: https://pandas.pydata.org/pandas-docs/stable/user_guide/indexing.html#returning-a-view-versus-a-copy\n",
      "  elements.group[i] = str(count + 4)\n"
     ]
    },
    {
     "name": "stdout",
     "output_type": "stream",
     "text": [
      "WARNING: Invalid chemical symbol: D\n",
      "WARNING: Multiple entries for element D\n"
     ]
    },
    {
     "name": "stderr",
     "output_type": "stream",
     "text": [
      "Start : This command cannot be run due to the error: The system cannot find the file specified.\r\n",
      "At line:1 char:1\r\n",
      "+ Start \"file:///mnt/c/Users/knc6/OneDrive - NIST/KamalLaptop/JARVIS-le ...\r\n",
      "+ ~~~~~~~~~~~~~~~~~~~~~~~~~~~~~~~~~~~~~~~~~~~~~~~~~~~~~~~~~~~~~~~~~~~~~\r\n",
      "    + CategoryInfo          : InvalidOperation: (:) [Start-Process], InvalidOperationException\r\n",
      "    + FullyQualifiedErrorId : InvalidOperationException,Microsoft.PowerShell.Commands.StartProcessCommand\r\n",
      " \r\n"
     ]
    },
    {
     "data": {
      "text/html": [
       "<div style=\"display: table;\"><div style=\"display: table-row;\"><div style=\"display: table-cell;\"><b title=\"bokeh.plotting.figure.Figure\">Figure</b>(</div><div style=\"display: table-cell;\">id&nbsp;=&nbsp;'2904', <span id=\"3089\" style=\"cursor: pointer;\">&hellip;)</span></div></div><div class=\"3088\" style=\"display: none;\"><div style=\"display: table-cell;\"></div><div style=\"display: table-cell;\">above&nbsp;=&nbsp;[],</div></div><div class=\"3088\" style=\"display: none;\"><div style=\"display: table-cell;\"></div><div style=\"display: table-cell;\">align&nbsp;=&nbsp;'start',</div></div><div class=\"3088\" style=\"display: none;\"><div style=\"display: table-cell;\"></div><div style=\"display: table-cell;\">aspect_ratio&nbsp;=&nbsp;None,</div></div><div class=\"3088\" style=\"display: none;\"><div style=\"display: table-cell;\"></div><div style=\"display: table-cell;\">aspect_scale&nbsp;=&nbsp;1,</div></div><div class=\"3088\" style=\"display: none;\"><div style=\"display: table-cell;\"></div><div style=\"display: table-cell;\">background&nbsp;=&nbsp;None,</div></div><div class=\"3088\" style=\"display: none;\"><div style=\"display: table-cell;\"></div><div style=\"display: table-cell;\">background_fill_alpha&nbsp;=&nbsp;1.0,</div></div><div class=\"3088\" style=\"display: none;\"><div style=\"display: table-cell;\"></div><div style=\"display: table-cell;\">background_fill_color&nbsp;=&nbsp;'#ffffff',</div></div><div class=\"3088\" style=\"display: none;\"><div style=\"display: table-cell;\"></div><div style=\"display: table-cell;\">below&nbsp;=&nbsp;[CategoricalAxis(id='2913', ...)],</div></div><div class=\"3088\" style=\"display: none;\"><div style=\"display: table-cell;\"></div><div style=\"display: table-cell;\">border_fill_alpha&nbsp;=&nbsp;1.0,</div></div><div class=\"3088\" style=\"display: none;\"><div style=\"display: table-cell;\"></div><div style=\"display: table-cell;\">border_fill_color&nbsp;=&nbsp;'#ffffff',</div></div><div class=\"3088\" style=\"display: none;\"><div style=\"display: table-cell;\"></div><div style=\"display: table-cell;\">center&nbsp;=&nbsp;[Grid(id='2915', ...), Grid(id='2918', ...)],</div></div><div class=\"3088\" style=\"display: none;\"><div style=\"display: table-cell;\"></div><div style=\"display: table-cell;\">css_classes&nbsp;=&nbsp;[],</div></div><div class=\"3088\" style=\"display: none;\"><div style=\"display: table-cell;\"></div><div style=\"display: table-cell;\">disabled&nbsp;=&nbsp;False,</div></div><div class=\"3088\" style=\"display: none;\"><div style=\"display: table-cell;\"></div><div style=\"display: table-cell;\">extra_x_ranges&nbsp;=&nbsp;{},</div></div><div class=\"3088\" style=\"display: none;\"><div style=\"display: table-cell;\"></div><div style=\"display: table-cell;\">extra_x_scales&nbsp;=&nbsp;{},</div></div><div class=\"3088\" style=\"display: none;\"><div style=\"display: table-cell;\"></div><div style=\"display: table-cell;\">extra_y_ranges&nbsp;=&nbsp;{},</div></div><div class=\"3088\" style=\"display: none;\"><div style=\"display: table-cell;\"></div><div style=\"display: table-cell;\">extra_y_scales&nbsp;=&nbsp;{},</div></div><div class=\"3088\" style=\"display: none;\"><div style=\"display: table-cell;\"></div><div style=\"display: table-cell;\">frame_height&nbsp;=&nbsp;None,</div></div><div class=\"3088\" style=\"display: none;\"><div style=\"display: table-cell;\"></div><div style=\"display: table-cell;\">frame_width&nbsp;=&nbsp;None,</div></div><div class=\"3088\" style=\"display: none;\"><div style=\"display: table-cell;\"></div><div style=\"display: table-cell;\">height&nbsp;=&nbsp;600,</div></div><div class=\"3088\" style=\"display: none;\"><div style=\"display: table-cell;\"></div><div style=\"display: table-cell;\">height_policy&nbsp;=&nbsp;'auto',</div></div><div class=\"3088\" style=\"display: none;\"><div style=\"display: table-cell;\"></div><div style=\"display: table-cell;\">hidpi&nbsp;=&nbsp;True,</div></div><div class=\"3088\" style=\"display: none;\"><div style=\"display: table-cell;\"></div><div style=\"display: table-cell;\">inner_height&nbsp;=&nbsp;0,</div></div><div class=\"3088\" style=\"display: none;\"><div style=\"display: table-cell;\"></div><div style=\"display: table-cell;\">inner_width&nbsp;=&nbsp;0,</div></div><div class=\"3088\" style=\"display: none;\"><div style=\"display: table-cell;\"></div><div style=\"display: table-cell;\">js_event_callbacks&nbsp;=&nbsp;{},</div></div><div class=\"3088\" style=\"display: none;\"><div style=\"display: table-cell;\"></div><div style=\"display: table-cell;\">js_property_callbacks&nbsp;=&nbsp;{},</div></div><div class=\"3088\" style=\"display: none;\"><div style=\"display: table-cell;\"></div><div style=\"display: table-cell;\">left&nbsp;=&nbsp;[CategoricalAxis(id='2916', ...)],</div></div><div class=\"3088\" style=\"display: none;\"><div style=\"display: table-cell;\"></div><div style=\"display: table-cell;\">lod_factor&nbsp;=&nbsp;10,</div></div><div class=\"3088\" style=\"display: none;\"><div style=\"display: table-cell;\"></div><div style=\"display: table-cell;\">lod_interval&nbsp;=&nbsp;300,</div></div><div class=\"3088\" style=\"display: none;\"><div style=\"display: table-cell;\"></div><div style=\"display: table-cell;\">lod_threshold&nbsp;=&nbsp;2000,</div></div><div class=\"3088\" style=\"display: none;\"><div style=\"display: table-cell;\"></div><div style=\"display: table-cell;\">lod_timeout&nbsp;=&nbsp;500,</div></div><div class=\"3088\" style=\"display: none;\"><div style=\"display: table-cell;\"></div><div style=\"display: table-cell;\">margin&nbsp;=&nbsp;(0, 0, 0, 0),</div></div><div class=\"3088\" style=\"display: none;\"><div style=\"display: table-cell;\"></div><div style=\"display: table-cell;\">match_aspect&nbsp;=&nbsp;False,</div></div><div class=\"3088\" style=\"display: none;\"><div style=\"display: table-cell;\"></div><div style=\"display: table-cell;\">max_height&nbsp;=&nbsp;None,</div></div><div class=\"3088\" style=\"display: none;\"><div style=\"display: table-cell;\"></div><div style=\"display: table-cell;\">max_width&nbsp;=&nbsp;None,</div></div><div class=\"3088\" style=\"display: none;\"><div style=\"display: table-cell;\"></div><div style=\"display: table-cell;\">min_border&nbsp;=&nbsp;5,</div></div><div class=\"3088\" style=\"display: none;\"><div style=\"display: table-cell;\"></div><div style=\"display: table-cell;\">min_border_bottom&nbsp;=&nbsp;None,</div></div><div class=\"3088\" style=\"display: none;\"><div style=\"display: table-cell;\"></div><div style=\"display: table-cell;\">min_border_left&nbsp;=&nbsp;None,</div></div><div class=\"3088\" style=\"display: none;\"><div style=\"display: table-cell;\"></div><div style=\"display: table-cell;\">min_border_right&nbsp;=&nbsp;None,</div></div><div class=\"3088\" style=\"display: none;\"><div style=\"display: table-cell;\"></div><div style=\"display: table-cell;\">min_border_top&nbsp;=&nbsp;None,</div></div><div class=\"3088\" style=\"display: none;\"><div style=\"display: table-cell;\"></div><div style=\"display: table-cell;\">min_height&nbsp;=&nbsp;None,</div></div><div class=\"3088\" style=\"display: none;\"><div style=\"display: table-cell;\"></div><div style=\"display: table-cell;\">min_width&nbsp;=&nbsp;None,</div></div><div class=\"3088\" style=\"display: none;\"><div style=\"display: table-cell;\"></div><div style=\"display: table-cell;\">name&nbsp;=&nbsp;None,</div></div><div class=\"3088\" style=\"display: none;\"><div style=\"display: table-cell;\"></div><div style=\"display: table-cell;\">outer_height&nbsp;=&nbsp;0,</div></div><div class=\"3088\" style=\"display: none;\"><div style=\"display: table-cell;\"></div><div style=\"display: table-cell;\">outer_width&nbsp;=&nbsp;0,</div></div><div class=\"3088\" style=\"display: none;\"><div style=\"display: table-cell;\"></div><div style=\"display: table-cell;\">outline_line_alpha&nbsp;=&nbsp;1.0,</div></div><div class=\"3088\" style=\"display: none;\"><div style=\"display: table-cell;\"></div><div style=\"display: table-cell;\">outline_line_cap&nbsp;=&nbsp;'butt',</div></div><div class=\"3088\" style=\"display: none;\"><div style=\"display: table-cell;\"></div><div style=\"display: table-cell;\">outline_line_color&nbsp;=&nbsp;None,</div></div><div class=\"3088\" style=\"display: none;\"><div style=\"display: table-cell;\"></div><div style=\"display: table-cell;\">outline_line_dash&nbsp;=&nbsp;[],</div></div><div class=\"3088\" style=\"display: none;\"><div style=\"display: table-cell;\"></div><div style=\"display: table-cell;\">outline_line_dash_offset&nbsp;=&nbsp;0,</div></div><div class=\"3088\" style=\"display: none;\"><div style=\"display: table-cell;\"></div><div style=\"display: table-cell;\">outline_line_join&nbsp;=&nbsp;'bevel',</div></div><div class=\"3088\" style=\"display: none;\"><div style=\"display: table-cell;\"></div><div style=\"display: table-cell;\">outline_line_width&nbsp;=&nbsp;1,</div></div><div class=\"3088\" style=\"display: none;\"><div style=\"display: table-cell;\"></div><div style=\"display: table-cell;\">output_backend&nbsp;=&nbsp;'canvas',</div></div><div class=\"3088\" style=\"display: none;\"><div style=\"display: table-cell;\"></div><div style=\"display: table-cell;\">renderers&nbsp;=&nbsp;[GlyphRenderer(id='2926', ...), GlyphRenderer(id='2934', ...), GlyphRenderer(id='2940', ...)],</div></div><div class=\"3088\" style=\"display: none;\"><div style=\"display: table-cell;\"></div><div style=\"display: table-cell;\">reset_policy&nbsp;=&nbsp;'standard',</div></div><div class=\"3088\" style=\"display: none;\"><div style=\"display: table-cell;\"></div><div style=\"display: table-cell;\">right&nbsp;=&nbsp;[ColorBar(id='2943', ...)],</div></div><div class=\"3088\" style=\"display: none;\"><div style=\"display: table-cell;\"></div><div style=\"display: table-cell;\">sizing_mode&nbsp;=&nbsp;None,</div></div><div class=\"3088\" style=\"display: none;\"><div style=\"display: table-cell;\"></div><div style=\"display: table-cell;\">subscribed_events&nbsp;=&nbsp;[],</div></div><div class=\"3088\" style=\"display: none;\"><div style=\"display: table-cell;\"></div><div style=\"display: table-cell;\">syncable&nbsp;=&nbsp;True,</div></div><div class=\"3088\" style=\"display: none;\"><div style=\"display: table-cell;\"></div><div style=\"display: table-cell;\">tags&nbsp;=&nbsp;[],</div></div><div class=\"3088\" style=\"display: none;\"><div style=\"display: table-cell;\"></div><div style=\"display: table-cell;\">title&nbsp;=&nbsp;Title(id='2944', ...),</div></div><div class=\"3088\" style=\"display: none;\"><div style=\"display: table-cell;\"></div><div style=\"display: table-cell;\">title_location&nbsp;=&nbsp;'above',</div></div><div class=\"3088\" style=\"display: none;\"><div style=\"display: table-cell;\"></div><div style=\"display: table-cell;\">toolbar&nbsp;=&nbsp;Toolbar(id='2920', ...),</div></div><div class=\"3088\" style=\"display: none;\"><div style=\"display: table-cell;\"></div><div style=\"display: table-cell;\">toolbar_location&nbsp;=&nbsp;'above',</div></div><div class=\"3088\" style=\"display: none;\"><div style=\"display: table-cell;\"></div><div style=\"display: table-cell;\">toolbar_sticky&nbsp;=&nbsp;True,</div></div><div class=\"3088\" style=\"display: none;\"><div style=\"display: table-cell;\"></div><div style=\"display: table-cell;\">visible&nbsp;=&nbsp;True,</div></div><div class=\"3088\" style=\"display: none;\"><div style=\"display: table-cell;\"></div><div style=\"display: table-cell;\">width&nbsp;=&nbsp;1050,</div></div><div class=\"3088\" style=\"display: none;\"><div style=\"display: table-cell;\"></div><div style=\"display: table-cell;\">width_policy&nbsp;=&nbsp;'auto',</div></div><div class=\"3088\" style=\"display: none;\"><div style=\"display: table-cell;\"></div><div style=\"display: table-cell;\">x_range&nbsp;=&nbsp;FactorRange(id='2905', ...),</div></div><div class=\"3088\" style=\"display: none;\"><div style=\"display: table-cell;\"></div><div style=\"display: table-cell;\">x_scale&nbsp;=&nbsp;CategoricalScale(id='2909', ...),</div></div><div class=\"3088\" style=\"display: none;\"><div style=\"display: table-cell;\"></div><div style=\"display: table-cell;\">y_range&nbsp;=&nbsp;FactorRange(id='2907', ...),</div></div><div class=\"3088\" style=\"display: none;\"><div style=\"display: table-cell;\"></div><div style=\"display: table-cell;\">y_scale&nbsp;=&nbsp;CategoricalScale(id='2911', ...))</div></div></div>\n",
       "<script>\n",
       "(function() {\n",
       "  let expanded = false;\n",
       "  const ellipsis = document.getElementById(\"3089\");\n",
       "  ellipsis.addEventListener(\"click\", function() {\n",
       "    const rows = document.getElementsByClassName(\"3088\");\n",
       "    for (let i = 0; i < rows.length; i++) {\n",
       "      const el = rows[i];\n",
       "      el.style.display = expanded ? \"none\" : \"table-row\";\n",
       "    }\n",
       "    ellipsis.innerHTML = expanded ? \"&hellip;)\" : \"&lsaquo;&lsaquo;&lsaquo;\";\n",
       "    expanded = !expanded;\n",
       "  });\n",
       "})();\n",
       "</script>\n"
      ],
      "text/plain": [
       "Figure(id='2904', ...)"
      ]
     },
     "execution_count": 128,
     "metadata": {},
     "output_type": "execute_result"
    }
   ],
   "source": [
    "from jarvis.analysis.periodic.ptable import plot_ptable_trend\n",
    "plot_ptable_trend(save_plot=False, input_file='elements.csv')"
   ]
  },
  {
   "cell_type": "code",
   "execution_count": 118,
   "id": "a10e8101",
   "metadata": {},
   "outputs": [
    {
     "name": "stdout",
     "output_type": "stream",
     "text": [
      "total 912\r\n",
      "drwxrwxrwx 1 kamalch kamalch   4096 Apr 17 17:22 ..\r\n",
      "-rwxrwxrwx 1 kamalch kamalch 843696 Apr 17 23:56 Paper-Copy1.ipynb\r\n",
      "drwxrwxrwx 1 kamalch kamalch   4096 Apr 17 23:56 .ipynb_checkpoints\r\n",
      "-rwxrwxrwx 1 kamalch kamalch   2015 Apr 18 00:25 elements.csv\r\n",
      "-rwxrwxrwx 1 kamalch kamalch  14359 Apr 18 00:25 ptable.html\r\n",
      "-rwxrwxrwx 1 kamalch kamalch  68485 Apr 18 00:25 DataSetPlot.ipynb\r\n",
      "drwxrwxrwx 1 kamalch kamalch   4096 Apr 18 00:25 .\r\n"
     ]
    }
   ],
   "source": [
    "!ls -altr"
   ]
  },
  {
   "cell_type": "code",
   "execution_count": 20,
   "id": "295ce5a6",
   "metadata": {},
   "outputs": [
    {
     "name": "stdout",
     "output_type": "stream",
     "text": [
      "stem_2d_image_bravais_class.json.zip\n"
     ]
    }
   ],
   "source": [
    "\n",
    "for i in glob.glob(\"jarvis_leaderboard/dataset/*/*/*.json.zip\"):\n",
    "    fname = i.split(\"/\")[-1].split(\".csv.zip\")[0]\n",
    "    dataset = fname\n",
    "    \n",
    "\n",
    "    print (dataset)\n",
    "    break\n",
    "    \n"
   ]
  },
  {
   "cell_type": "code",
   "execution_count": 19,
   "id": "86f81ded",
   "metadata": {},
   "outputs": [
    {
     "data": {
      "text/plain": [
       "['stem_2d_image_bravais_class.json.zip']"
      ]
     },
     "execution_count": 19,
     "metadata": {},
     "output_type": "execute_result"
    }
   ],
   "source": [
    "temp"
   ]
  },
  {
   "cell_type": "code",
   "execution_count": null,
   "id": "e777b377",
   "metadata": {},
   "outputs": [],
   "source": []
  }
 ],
 "metadata": {
  "kernelspec": {
   "display_name": "Python 3 (ipykernel)",
   "language": "python",
   "name": "python3"
  },
  "language_info": {
   "codemirror_mode": {
    "name": "ipython",
    "version": 3
   },
   "file_extension": ".py",
   "mimetype": "text/x-python",
   "name": "python",
   "nbconvert_exporter": "python",
   "pygments_lexer": "ipython3",
   "version": "3.8.13"
  }
 },
 "nbformat": 4,
 "nbformat_minor": 5
}
